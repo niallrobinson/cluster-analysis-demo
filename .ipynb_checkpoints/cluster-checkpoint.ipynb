{
 "cells": [
  {
   "cell_type": "markdown",
   "metadata": {},
   "source": [
    "Crunchy nut cluster analysis\n",
    "================"
   ]
  },
  {
   "cell_type": "code",
   "execution_count": null,
   "metadata": {
    "collapsed": false
   },
   "outputs": [],
   "source": [
    "from IPython.display import Image\n",
    "Image(url= \"http://www.kelloggs.com.au/content/dam/workarea/assetpushqueue/images/web-raw-approved/eng%20AU/71/65/prod_img-417165.jpg.thumb.319.319.png\")"
   ]
  },
  {
   "cell_type": "markdown",
   "metadata": {},
   "source": [
    "### Cluster Analysis...\n",
    "1. ...is a bunch of different analyses\n",
    "1. ...is unsupervised\n",
    "1. ...classifies things into different groups, or 'clusters'\n",
    "1. ...often looks at the 'distance' of points (and clusters) from each other. This can be Euclidian distance in a n-dimensional space.\n",
    "\n",
    "Everything here is in 2D space - but imagine it in nDs!"
   ]
  },
  {
   "cell_type": "code",
   "execution_count": null,
   "metadata": {
    "collapsed": false,
    "nbpresent": {
     "id": "ee4c15cd-f13b-43f9-b6eb-91439e6f95e8"
    }
   },
   "outputs": [],
   "source": [
    "!pip install scikit-learn plotly"
   ]
  },
  {
   "cell_type": "code",
   "execution_count": null,
   "metadata": {
    "collapsed": false,
    "nbpresent": {
     "id": "1e3cecb8-d5ea-46ab-9b48-345d570b1a6e"
    }
   },
   "outputs": [],
   "source": [
    "import numpy as np\n",
    "import pandas as pd\n",
    "import sklearn as skl\n",
    "import sklearn.cluster as sklc\n",
    "\n",
    "from scipy.cluster.hierarchy import dendrogram, linkage\n",
    "\n",
    "import plotly\n",
    "plotly.offline.init_notebook_mode()"
   ]
  },
  {
   "cell_type": "code",
   "execution_count": null,
   "metadata": {
    "collapsed": true
   },
   "outputs": [],
   "source": [
    "def rand_circle(n=10000, Rc=20, Xc =-30, Yc=-40):\n",
    "    theta = np.random.rand(1, n)*(2*np.pi)\n",
    "    r = Rc*np.sqrt(np.random.rand(1, n))\n",
    "    [x] = Xc + r*np.cos(theta)\n",
    "    [y] = Yc + r*np.sin(theta)\n",
    "    return x, y"
   ]
  },
  {
   "cell_type": "code",
   "execution_count": null,
   "metadata": {
    "collapsed": false,
    "nbpresent": {
     "id": "ca39a240-209a-4108-8254-790b5bde5650"
    }
   },
   "outputs": [],
   "source": [
    "x_a, y_a = rand_circle(200, 2.0, 17, 15.8)\n",
    "a = pd.DataFrame({'x': x_a, 'y': y_a, 'type': ['a']*200})\n",
    "\n",
    "x_b, y_b = rand_circle(200, 2.0, 23, 15.8)\n",
    "b = pd.DataFrame({'x': x_b, 'y': y_b, 'type': ['b']*200})\n",
    "\n",
    "x_c, y_c = rand_circle(2000, 4.0, 20, 10)\n",
    "c = pd.DataFrame({'x': x_c, 'y': y_c, 'type': ['c']*2000})\n",
    "\n",
    "pts = pd.concat([a, b, c])"
   ]
  },
  {
   "cell_type": "code",
   "execution_count": null,
   "metadata": {
    "collapsed": false,
    "nbpresent": {
     "id": "b58c0f0f-56b7-4e62-8c83-48ea8e1ff821"
    }
   },
   "outputs": [],
   "source": [
    "fig = {\n",
    "    'data': [\n",
    "        {\n",
    "            'x': pts.x, \n",
    "            'y': pts.y,\n",
    "            'mode': 'markers'}],\n",
    "    'layout': {\n",
    "        'xaxis': {'title': 'X'},\n",
    "        'yaxis': {'title': \"Y\"},\n",
    "        'title': 'Hello Micky!'\n",
    "        \n",
    "    }\n",
    "}\n",
    "plotly.offline.iplot(fig)"
   ]
  },
  {
   "cell_type": "code",
   "execution_count": null,
   "metadata": {
    "collapsed": false
   },
   "outputs": [],
   "source": [
    "Image(url= \"http://data.freehdw.com/mickey-mouse-head.jpg\")"
   ]
  },
  {
   "cell_type": "code",
   "execution_count": null,
   "metadata": {
    "collapsed": false
   },
   "outputs": [],
   "source": [
    "fig = {\n",
    "    'data': [\n",
    "        {\n",
    "            'x': pts[pts['type']=='a'].x, \n",
    "            'y': pts[pts['type']=='a'].y,\n",
    "            'mode': 'markers',\n",
    "            'name': 'A'},\n",
    "        {\n",
    "            'x': pts[pts['type']=='b'].x, \n",
    "            'y': pts[pts['type']=='b'].y, \n",
    "            'mode': 'markers',\n",
    "            'name': 'B'},\n",
    "        {\n",
    "            'x': pts[pts['type']=='c'].x, \n",
    "            'y': pts[pts['type']=='c'].y,\n",
    "            'mode': 'markers',\n",
    "            'name': 'C'}\n",
    "    ],\n",
    "    'layout': {\n",
    "        'xaxis': {'title': 'X'},\n",
    "        'yaxis': {'title': \"Y\"},\n",
    "        'title': \"Sourece clusters\"\n",
    "        \n",
    "    }\n",
    "}\n",
    "plotly.offline.iplot(fig)"
   ]
  },
  {
   "cell_type": "markdown",
   "metadata": {
    "nbpresent": {
     "id": "a0789a0d-c7ec-49c6-b6cc-1dbfe4ced44d"
    }
   },
   "source": [
    "Kmeans\n",
    "==="
   ]
  },
  {
   "cell_type": "markdown",
   "metadata": {},
   "source": [
    "1. Initialize k different starting cluster 'centers'\n",
    "2. Allocate points to closest cluster\n",
    "3. Recalculate cluster centers\n",
    "4. Iterate over 2 and 3\n",
    "\n",
    "[Example](http://onmyphd.com/?p=k-means.clustering)"
   ]
  },
  {
   "cell_type": "code",
   "execution_count": null,
   "metadata": {
    "collapsed": false,
    "nbpresent": {
     "id": "0f7b110c-a205-4851-99fc-d5213c1012c9"
    }
   },
   "outputs": [],
   "source": [
    "kmeans_clustering = sklc.KMeans(n_clusters=3).fit(pts[['x','y']])"
   ]
  },
  {
   "cell_type": "code",
   "execution_count": null,
   "metadata": {
    "collapsed": false,
    "nbpresent": {
     "id": "a1e7832d-c990-4a0d-950f-3645e84a0e4e"
    }
   },
   "outputs": [],
   "source": [
    "pts[\"kmeans\"] = pd.Series(kmeans_clustering.labels_, index=pts.index)"
   ]
  },
  {
   "cell_type": "code",
   "execution_count": null,
   "metadata": {
    "collapsed": false,
    "nbpresent": {
     "id": "e892f00d-0e71-4546-99ff-3b273db5f567"
    }
   },
   "outputs": [],
   "source": [
    "fig = {\n",
    "    'data': [\n",
    "        {\n",
    "            'x': pts[pts['kmeans']==0].x, \n",
    "            'y': pts[pts['kmeans']==0].y,\n",
    "            'mode': 'markers',\n",
    "            'name': '0'},\n",
    "        {\n",
    "            'x': pts[pts['kmeans']==1].x, \n",
    "            'y': pts[pts['kmeans']==1].y, \n",
    "            'mode': 'markers',\n",
    "            'name': '1'},\n",
    "        {\n",
    "            'x': pts[pts['kmeans']==2].x, \n",
    "            'y': pts[pts['kmeans']==2].y,\n",
    "            'mode': 'markers',\n",
    "            'name': '2'}\n",
    "    ],\n",
    "    'layout': {\n",
    "        'xaxis': {'title': 'X'},\n",
    "        'yaxis': {'title': \"Y\"},\n",
    "        'title': 'K Means'\n",
    "    }\n",
    "}\n",
    "plotly.offline.iplot(fig)"
   ]
  },
  {
   "cell_type": "markdown",
   "metadata": {
    "collapsed": true
   },
   "source": [
    "#### Gotchas\n",
    "1. Clusters assumed to be similar number of points\n",
    "1. Clusters assumed to be similar variance\n",
    "1. Clusters assumed to be 'spherical'\n",
    "1. You need to guess the number of clusters"
   ]
  },
  {
   "cell_type": "markdown",
   "metadata": {},
   "source": [
    "## Higherarchical Agglomorate"
   ]
  },
  {
   "cell_type": "markdown",
   "metadata": {},
   "source": [
    "1. All points start in their own cluster\n",
    "1. Join the two 'closest' clusters\n",
    "1. Carry on until all the points are in one cluster"
   ]
  },
  {
   "cell_type": "code",
   "execution_count": null,
   "metadata": {
    "collapsed": true
   },
   "outputs": [],
   "source": [
    "# ha_clustering_ward = sklc.hierarchical.AgglomerativeClustering(linkage='ward').fit(pts[['x','y']])"
   ]
  },
  {
   "cell_type": "code",
   "execution_count": null,
   "metadata": {
    "collapsed": false
   },
   "outputs": [],
   "source": [
    "ha_clustering = linkage(pts[['x','y']].as_matrix(), method='average')"
   ]
  },
  {
   "cell_type": "code",
   "execution_count": null,
   "metadata": {
    "collapsed": false
   },
   "outputs": [],
   "source": [
    "import matplotlib.pyplot as plt\n",
    "plt.figure(figsize=(10, 6))\n",
    "dendrogram(ha_clustering,\n",
    "    truncate_mode='lastp',\n",
    "    p=12,\n",
    "    leaf_rotation=90.,\n",
    "    leaf_font_size=12.,\n",
    "    show_contracted=True)\n",
    "plt.show()"
   ]
  },
  {
   "cell_type": "markdown",
   "metadata": {},
   "source": [
    "Vertical height is distance to be \"bridged\" to join two clusters."
   ]
  },
  {
   "cell_type": "code",
   "execution_count": null,
   "metadata": {
    "collapsed": false
   },
   "outputs": [],
   "source": [
    "from scipy.cluster.hierarchy import fcluster\n",
    "clusters = fcluster(ha_clustering, 3, criterion='maxclust')"
   ]
  },
  {
   "cell_type": "code",
   "execution_count": null,
   "metadata": {
    "collapsed": false
   },
   "outputs": [],
   "source": [
    "fig = {\n",
    "    'data': [\n",
    "        {\n",
    "            'x': pts[clusters==1].x, \n",
    "            'y': pts[clusters==1].y,\n",
    "            'mode': 'markers',\n",
    "            'name': '0'},\n",
    "        {\n",
    "            'x': pts[clusters==2].x, \n",
    "            'y': pts[clusters==2].y, \n",
    "            'mode': 'markers',\n",
    "            'name': '1'},\n",
    "        {\n",
    "            'x': pts[clusters==3].x, \n",
    "            'y': pts[clusters==3].y,\n",
    "            'mode': 'markers',\n",
    "            'name': '2'}\n",
    "    ],\n",
    "    'layout': {\n",
    "        'xaxis': {'title': 'X'},\n",
    "        'yaxis': {'title': \"Y\"},\n",
    "        'title': 'K Means'\n",
    "    }\n",
    "}\n",
    "plotly.offline.iplot(fig)"
   ]
  },
  {
   "cell_type": "markdown",
   "metadata": {},
   "source": [
    "## What is distance anyway\n",
    "\n",
    "1. Centroid\n",
    "1. Nearest\n",
    "1. Farthest\n",
    "1. Average\n",
    "1. Wards method (inner cluster variance)"
   ]
  },
  {
   "cell_type": "markdown",
   "metadata": {},
   "source": [
    "## How do you know how many clusters"
   ]
  },
  {
   "cell_type": "markdown",
   "metadata": {},
   "source": [
    "Lots of different ways and its ultimately **subjective**!!\n",
    "\n",
    "1. Look for a decrese in $R^2 = 1-\\sum{\\frac{SSW}{SSB}}$ i.e. the amount of the variance exlplained by the given solution\n",
    "1. An increase in RMS distance between clusters indicates two dissimilar clusters a have been joined\n",
    "1. 'Insignificant clusters' contain < half the mean cluster group size (implies similar size)"
   ]
  },
  {
   "cell_type": "markdown",
   "metadata": {},
   "source": [
    "## Real world uses"
   ]
  },
  {
   "cell_type": "markdown",
   "metadata": {},
   "source": [
    "[My WIBS paper!](http://www.atmos-meas-tech.net/6/337/2013/amt-6-337-2013.pdf)\n",
    "\n",
    "[My back trajectory paper](http://www.atmos-chem-phys.net/11/9605/2011/acp-11-9605-2011.pdf)"
   ]
  }
 ],
 "metadata": {
  "kernelspec": {
   "display_name": "Python 3",
   "language": "python",
   "name": "python3"
  },
  "language_info": {
   "codemirror_mode": {
    "name": "ipython",
    "version": 3
   },
   "file_extension": ".py",
   "mimetype": "text/x-python",
   "name": "python",
   "nbconvert_exporter": "python",
   "pygments_lexer": "ipython3",
   "version": "3.5.2"
  },
  "nbpresent": {
   "slides": {
    "4621611b-9d79-445d-8c60-6a7c7a71dbcc": {
     "id": "4621611b-9d79-445d-8c60-6a7c7a71dbcc",
     "layout": "grid",
     "prev": null,
     "regions": {
      "49d51eae-d884-429a-81ee-8472ff3a0c46": {
       "attrs": {
        "height": 0.8333333333333334,
        "pad": 0.01,
        "width": 0.8333333333333334,
        "x": 0.08333333333333333,
        "y": 0.08333333333333333
       },
       "content": {
        "cell": "ee4c15cd-f13b-43f9-b6eb-91439e6f95e8",
        "part": "outputs"
       },
       "id": "49d51eae-d884-429a-81ee-8472ff3a0c46"
      },
      "98ac72f8-aaa6-4a84-811b-cd463bf70157": {
       "attrs": {
        "height": 0.8333333333333334,
        "pad": 0.01,
        "width": 0.8333333333333334,
        "x": 0.08333333333333333,
        "y": 0.08333333333333333
       },
       "id": "98ac72f8-aaa6-4a84-811b-cd463bf70157"
      },
      "a7a9d861-0155-4dc0-8e2c-9a896fa41890": {
       "attrs": {
        "height": 1,
        "pad": 0.01,
        "width": 1,
        "x": 0,
        "y": 0
       },
       "id": "a7a9d861-0155-4dc0-8e2c-9a896fa41890"
      }
     }
    }
   },
   "themes": {}
  }
 },
 "nbformat": 4,
 "nbformat_minor": 2
}
